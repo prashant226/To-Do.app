{
 "cells": [
  {
   "cell_type": "code",
   "execution_count": null,
   "id": "4829d669",
   "metadata": {},
   "outputs": [],
   "source": [
    "a = int (input(\"Enter the vlaue of a=\"))\n",
    "b = 10\n",
    "print (b,a)"
   ]
  },
  {
   "cell_type": "code",
   "execution_count": null,
   "id": "5605d12d",
   "metadata": {},
   "outputs": [],
   "source": [
    "print (\"This is my first program in Python\")\n",
    "print (\"Hello, All Mechanical III sem Students\")\n",
    "print (\"Well come all III Sem Mech Students to Python world for better opportunity\")\n"
   ]
  },
  {
   "cell_type": "code",
   "execution_count": null,
   "id": "89a29cf7",
   "metadata": {},
   "outputs": [],
   "source": [
    "Apple = 20\n",
    "krishna = 'HoD of Mechanical Engineering'\n",
    "print (Apple); print (krishna)\n"
   ]
  },
  {
   "cell_type": "code",
   "execution_count": null,
   "id": "f1eb14a9",
   "metadata": {},
   "outputs": [],
   "source": [
    "a = 5\n",
    "print(type (a))"
   ]
  },
  {
   "cell_type": "code",
   "execution_count": null,
   "id": "7f34f7a9",
   "metadata": {},
   "outputs": [],
   "source": [
    "a = 'Krishna'\n",
    "print(a)\n",
    "a= 5\n",
    "print(a)\n",
    "a = 5+4j\n",
    "print(a*a)\n",
    "A = 45\n",
    "print (A)"
   ]
  },
  {
   "cell_type": "code",
   "execution_count": null,
   "id": "0d89f237",
   "metadata": {},
   "outputs": [],
   "source": [
    "a8=45\n",
    "print (a8)"
   ]
  },
  {
   "cell_type": "code",
   "execution_count": null,
   "id": "3cf4bd5f",
   "metadata": {},
   "outputs": [],
   "source": [
    "A1 = [1,2,3,4,5,6,'Mangaluru',20]\n",
    "print (A1)\n"
   ]
  },
  {
   "cell_type": "code",
   "execution_count": null,
   "id": "7840f64a",
   "metadata": {},
   "outputs": [],
   "source": [
    "awhile = [1,2,3,4,5,6,'Mangaluru',20]\n",
    "print (awhile)\n"
   ]
  },
  {
   "cell_type": "code",
   "execution_count": null,
   "id": "8bdf8a3f",
   "metadata": {},
   "outputs": [],
   "source": [
    "a = range (4,41,5)\n",
    "for i in a:\n",
    "    print (i)\n"
   ]
  },
  {
   "cell_type": "code",
   "execution_count": null,
   "id": "ee438054",
   "metadata": {},
   "outputs": [],
   "source": [
    "sum = 10+\\\n",
    "456+\\\n",
    "908\n",
    "print (sum)\n"
   ]
  },
  {
   "cell_type": "code",
   "execution_count": null,
   "id": "bb4c1646",
   "metadata": {},
   "outputs": [],
   "source": [
    "a= {2,3,\n",
    "   4,6,7,\n",
    "   8,10}\n",
    "print (a)"
   ]
  },
  {
   "cell_type": "code",
   "execution_count": null,
   "id": "133fae27",
   "metadata": {},
   "outputs": [],
   "source": [
    "print(a)"
   ]
  },
  {
   "cell_type": "code",
   "execution_count": null,
   "id": "d21e3fb5",
   "metadata": {},
   "outputs": [],
   "source": [
    "print (5 in a)\n",
    "print (6 in a)"
   ]
  },
  {
   "cell_type": "code",
   "execution_count": null,
   "id": "0650b31d",
   "metadata": {},
   "outputs": [],
   "source": [
    "b =[]\n",
    "print (b)"
   ]
  },
  {
   "cell_type": "code",
   "execution_count": null,
   "id": "21b645fd",
   "metadata": {},
   "outputs": [],
   "source": [
    "a = [2,3,4,\"Rama\", 4.5, 6,7, 5+4j, True]\n",
    "print (a)"
   ]
  },
  {
   "cell_type": "code",
   "execution_count": null,
   "id": "7e4d77c9",
   "metadata": {},
   "outputs": [],
   "source": [
    "a = 'krishna'\n",
    "b= \"Rama\"\n",
    "c= \"\"\"RVCE\n",
    "Bangaluru \n",
    "Karnataka\"\"\"\n",
    "print (a,b,c)\n",
    "print (a[4])\n",
    "print (a[-1])\n",
    "print (c[4])\n",
    "print (a[2:4])"
   ]
  },
  {
   "cell_type": "code",
   "execution_count": null,
   "id": "88322e54",
   "metadata": {},
   "outputs": [],
   "source": [
    "rv_dict= {'Principal': 'Dr. K N Subramanya', 'College': 'RVCE', 'City': 'Bengaluru' }\n",
    "#print (rv_dict)\n",
    "print (rv_dict[\"Principal\"])\n",
    "print (rv_dict['City'])\n"
   ]
  },
  {
   "cell_type": "code",
   "execution_count": null,
   "id": "d8120c6e",
   "metadata": {},
   "outputs": [],
   "source": [
    "a = [202,3,4,5,7,8,9,10,200,300,2,3,4,5,]\n",
    "print (a)\n",
    "a[8]=100\n",
    "print (a)\n"
   ]
  },
  {
   "cell_type": "code",
   "execution_count": null,
   "id": "a34a3d42",
   "metadata": {},
   "outputs": [],
   "source": [
    "b= set(a)\n",
    "print (b)"
   ]
  },
  {
   "cell_type": "code",
   "execution_count": null,
   "id": "d9e99590",
   "metadata": {},
   "outputs": [],
   "source": [
    "a=[2,2,2,2,2,2,2,2,2,2]\n",
    "print (a)\n",
    "b = set(a)\n",
    "print(b)"
   ]
  },
  {
   "cell_type": "code",
   "execution_count": null,
   "id": "2b86a78c",
   "metadata": {},
   "outputs": [],
   "source": [
    "# data type in Python \n",
    "a = \"Hello Students\" # String \n",
    "b = 20               # integer \n",
    "c=30+4j\n",
    "d=['apple','Mango','Orange']\n",
    "e=('Class', 4,5,6,7,8)\n",
    "print (a,b,c,d,e)\n"
   ]
  },
  {
   "cell_type": "code",
   "execution_count": null,
   "id": "180c811f",
   "metadata": {},
   "outputs": [],
   "source": [
    "a,b,c,d=5,6,7,'Rama'\n",
    "print (a,b,c,d)"
   ]
  },
  {
   "cell_type": "code",
   "execution_count": null,
   "id": "a230a401",
   "metadata": {},
   "outputs": [],
   "source": [
    "a = 3+4j\n",
    "print (abs(a))\n",
    "print (abs(-5))"
   ]
  },
  {
   "cell_type": "code",
   "execution_count": null,
   "id": "9ab1c594",
   "metadata": {},
   "outputs": [],
   "source": [
    "a= 3,4,5,6,6,7,8,9,1,9, True, False\n",
    "print (all(a))"
   ]
  },
  {
   "cell_type": "code",
   "execution_count": null,
   "id": "c0eab715",
   "metadata": {},
   "outputs": [],
   "source": [
    "a,b,c,d=[1,2,3,4], [0,1,4,5], [False, 1], []\n",
    "print (all(a), all(b),all(c),all(d))"
   ]
  },
  {
   "cell_type": "code",
   "execution_count": null,
   "id": "2c416775",
   "metadata": {},
   "outputs": [],
   "source": [
    "test1, test2, test3, test4, test5 = [], [0], 0.0, True, 'Easy string'\n",
    "print (test1, 'is', bool(test1))\n",
    "print (test2, 'is', bool(test2))\n",
    "print (test3, 'is', bool(test3))\n",
    "print (test4, 'is', bool(test4))\n",
    "print (test5, 'is', bool(test5))"
   ]
  },
  {
   "cell_type": "code",
   "execution_count": null,
   "id": "115f2cf4",
   "metadata": {},
   "outputs": [],
   "source": [
    "print (bin (100))\n",
    "print (oct(100))\n"
   ]
  },
  {
   "cell_type": "code",
   "execution_count": null,
   "id": "bee84f8c",
   "metadata": {},
   "outputs": [],
   "source": [
    "print (\"The Binary equivalent 1 = \", bin(1))\n",
    "print (\"The Binary equivalent 10 = \", bin(10))\n",
    "print (\"The Binary equivalent 100 = \", bin(100))"
   ]
  },
  {
   "cell_type": "code",
   "execution_count": null,
   "id": "83d925b8",
   "metadata": {},
   "outputs": [],
   "source": [
    "# data type in Python \n",
    "a = \"Hello Students\" # String \n",
    "b = 20               # integer \n",
    "c= 12.54             # Float \n",
    "d=3+1j               # complex \n",
    "e= ['rama', 'Sita', 'Hanuma', 'Lakshamana']  # List \n",
    "f = ('apple', 'banana','mango') # tuple\n",
    "g = {'Ramanagara', 'Bengaluru', 'Mysure'}   # Set \n",
    "h = {'Name': 'M Krishna','Age': '54'} # Dictionary\n",
    "print (\"a=\",a,\"\\nb=\",b,\"\\nc=\",c, \"\\nd=\",d,\"\\ne=\", e, \"\\nf=\",f, \"\\ng=\",g,\"\\nh=\", h, \"\\ni=\",i)\n"
   ]
  },
  {
   "cell_type": "code",
   "execution_count": null,
   "id": "938ee043",
   "metadata": {},
   "outputs": [],
   "source": [
    "class Room:\n",
    "    length = 0.0\n",
    "    breadth = 0.0\n",
    "    \n",
    "    # method to calculate area\n",
    "    def calculate_area(self):\n",
    "        print(\"Area of Room =\", self.length * self.breadth)\n",
    "\n",
    "# create object of Room class\n",
    "study_room = Room()\n",
    "\n",
    "# assign values to all the properties \n",
    "study_room.length = 42.5\n",
    "study_room.breadth = 30.8\n",
    "\n",
    "# access method inside class\n",
    "study_room.calculate_area()"
   ]
  },
  {
   "cell_type": "code",
   "execution_count": null,
   "id": "a57a6ba6",
   "metadata": {},
   "outputs": [],
   "source": [
    "number = dict(x=5,y=10)\n",
    "print (number)"
   ]
  },
  {
   "cell_type": "code",
   "execution_count": null,
   "id": "31ea7125",
   "metadata": {},
   "outputs": [],
   "source": [
    "a= [\"Bread\", 'Milk', 'Butter']\n",
    "b = enumerate (a)\n",
    "print (list(b))"
   ]
  },
  {
   "cell_type": "code",
   "execution_count": null,
   "id": "406b602c",
   "metadata": {},
   "outputs": [],
   "source": [
    "b = enumerate(a,100)\n",
    "print (list(b))"
   ]
  },
  {
   "cell_type": "code",
   "execution_count": null,
   "id": "5174cdd7",
   "metadata": {},
   "outputs": [],
   "source": [
    "x =10\n",
    "print (eval('x+4'))"
   ]
  },
  {
   "cell_type": "code",
   "execution_count": null,
   "id": "06b8f756",
   "metadata": {},
   "outputs": [],
   "source": [
    "def myFunc(x):\n",
    "  if x < 18:\n",
    "    return False\n",
    "  else:\n",
    "    return True\n",
    "ages = [5, 12, 17, 18, 24, 32]\n",
    "adults = filter(myFunc, ages)\n",
    "for x in adults:\n",
    "  print(x)"
   ]
  },
  {
   "cell_type": "code",
   "execution_count": null,
   "id": "3ca2cc91",
   "metadata": {},
   "outputs": [],
   "source": [
    "class Person: \n",
    "    Name = \"M Krishna\"\n",
    "    age = 25\n",
    "print (\"Name of the Student is \", getattr(Person, 'Name'))\n",
    "print (\"Äge of the student is\", getattr (Person,'age'))\n"
   ]
  },
  {
   "cell_type": "code",
   "execution_count": null,
   "id": "5c250083",
   "metadata": {},
   "outputs": [],
   "source": [
    "help ('print')"
   ]
  },
  {
   "cell_type": "code",
   "execution_count": null,
   "id": "0e57497c",
   "metadata": {},
   "outputs": [],
   "source": [
    "x = ('apple', 'banana', 'cherry')\n",
    "y = id(x)\n",
    "print (x)\n",
    "print (y)"
   ]
  },
  {
   "cell_type": "code",
   "execution_count": null,
   "id": "d825bee0",
   "metadata": {},
   "outputs": [],
   "source": [
    "a,b,c,d= [], [1,2,3], (1,2,3,4,5), range(1,10)\n",
    "print (a, \"Length of\", len(a))\n",
    "print (b, \"Length of\", len(b))\n",
    "print (c, \"Length of\", len(c))\n",
    "print (d, \"Length of\", len(d))\n"
   ]
  },
  {
   "cell_type": "code",
   "execution_count": null,
   "id": "4ecf7a62",
   "metadata": {},
   "outputs": [],
   "source": [
    "a=[1,2,45,76,87,2,3,4]\n",
    "print (max(a))"
   ]
  },
  {
   "cell_type": "code",
   "execution_count": null,
   "id": "d6324ef4",
   "metadata": {},
   "outputs": [],
   "source": [
    "a=[1,2,-45,76,87,2,3,4]\n",
    "print (min(a))"
   ]
  },
  {
   "cell_type": "code",
   "execution_count": null,
   "id": "f1bd10a6",
   "metadata": {},
   "outputs": [],
   "source": [
    "print (oct(20))"
   ]
  },
  {
   "cell_type": "code",
   "execution_count": null,
   "id": "775df771",
   "metadata": {},
   "outputs": [],
   "source": [
    "print (pow(20, 2))\n",
    "print (pow (20,-2))\n",
    "print (pow (20, 0.34))\n",
    "print (pow(20,1/3))\n",
    "print (20**3.3)"
   ]
  },
  {
   "cell_type": "code",
   "execution_count": null,
   "id": "28e5529f",
   "metadata": {},
   "outputs": [],
   "source": [
    "a=[1,2,3,4,5,6,7,8]\n",
    "print (list(reversed(a)))\n",
    "b = ['R','V','C','E']\n",
    "print (list (reversed(b)))\n",
    "print (list (reversed(range(1,10))))"
   ]
  },
  {
   "cell_type": "code",
   "execution_count": null,
   "id": "2bdaa89f",
   "metadata": {},
   "outputs": [],
   "source": [
    "print (sum(range(20,30)))\n",
    "print (sum([2,3,4,5,6]))"
   ]
  },
  {
   "cell_type": "code",
   "execution_count": null,
   "id": "19d990e2",
   "metadata": {},
   "outputs": [],
   "source": [
    "a = [20.30,40,50,60]\n",
    "b={20,30,40,506,6}\n",
    "c = (3,4,5,6,7,8,9)\n",
    "d= {'1':20, '2':30}\n",
    "print (a,\"type=\",type(a),\"\\n\", b,\"type=\",type(b),\"\\n\",c,\"type=\",type(c),\"\\n\", d, \"type=\",type(d))"
   ]
  },
  {
   "cell_type": "code",
   "execution_count": null,
   "id": "dc6b113b",
   "metadata": {},
   "outputs": [],
   "source": [
    "def fac(x):\n",
    "    if x == 1:\n",
    "        return 1\n",
    "    else:\n",
    "        return (x * fac(x-1))\n",
    "    \n",
    "print (\"Factorial value of 3 =\", fac(3))\n",
    "print (\"Factorial value of 5 =\", fac(5))\n",
    "print (\"Factorial value of 10 =\", fac(10))"
   ]
  },
  {
   "cell_type": "code",
   "execution_count": null,
   "id": "e9f0f3ce",
   "metadata": {},
   "outputs": [],
   "source": [
    "double = lambda x: x*2\n",
    "for i in range (1,20):\n",
    "    print(double(i))"
   ]
  },
  {
   "cell_type": "code",
   "execution_count": null,
   "id": "04ad2985",
   "metadata": {},
   "outputs": [],
   "source": [
    "def add(x,y):\n",
    "    sum =x+y\n",
    "    return sum\n",
    "print (\"10+30=\", add(20,20))\n",
    "print (add(20,add(30,(add(40,59)))))\n"
   ]
  },
  {
   "cell_type": "code",
   "execution_count": null,
   "id": "d8846818",
   "metadata": {},
   "outputs": [],
   "source": [
    "a=20; b = 30; c=49\n",
    "print (a+b+c)\n",
    "print (a+b-c)\n",
    "print (a*b*c)\n",
    "print (a*b/c)\n",
    "print (a*b%c)\n",
    "print (a**b)\n"
   ]
  },
  {
   "cell_type": "code",
   "execution_count": null,
   "id": "69653076",
   "metadata": {},
   "outputs": [],
   "source": [
    "import math\n",
    "print (pow(10,2))\n",
    "print (abs(-10))\n",
    "print (math.sin(1.4))\n",
    "print (math.cos(1.4))\n",
    "print (math.floor(2.5))\n",
    "print (math.floor(-2.2))\n",
    "print (math.exp(3))\n",
    "print (math.log(10))\n",
    "print (math.sqrt(35))\n"
   ]
  },
  {
   "cell_type": "code",
   "execution_count": null,
   "id": "4d6c0278",
   "metadata": {},
   "outputs": [],
   "source": [
    "a=20; b = 30; c=49\n",
    "print (a+b+c)\n",
    "print (a-c)\n",
    "print (a*b*c)\n",
    "print (a/c)\n",
    "print (b%c)\n",
    "print (a**2)\n",
    "print (b//a)"
   ]
  },
  {
   "cell_type": "code",
   "execution_count": null,
   "id": "288f0779",
   "metadata": {},
   "outputs": [],
   "source": [
    "a, b, c = 20, 30, 50\n",
    "if (a==b):\n",
    "    print (\"a is equal to b\")\n",
    "else:\n",
    "    print (\"a is not equal to b\")\n",
    "#-----------------------------------\n",
    "if (a!=b):\n",
    "    print (\" a is not equall to b\")\n",
    "else:\n",
    "    print (\" a is equal to b\")\n",
    "#-----------------------------------\n",
    "if (a>b):\n",
    "    print (\" a is greater than b\")\n",
    "else:\n",
    "    print (\" a is not greater than b\")\n",
    "if (a<b):\n",
    "    print (\" a is smaller than b\")\n",
    "else:\n",
    "    print (\" a is not smaller than b\")\n",
    "    \n",
    "#-------------------------------------\n",
    "if (a>=b):\n",
    "    print (\"a is equal or greater than b\")\n",
    "else:\n",
    "    print (\" a is less than b\")\n",
    "# ------------------------------------\n",
    "if (a<=b):\n",
    "    print (\"a is equal or less than b\")\n",
    "else :\n",
    "    print (\"a is grater than b\")\n"
   ]
  },
  {
   "cell_type": "code",
   "execution_count": null,
   "id": "941c2627",
   "metadata": {},
   "outputs": [],
   "source": [
    "a, b, c = 20, 30, 25 \n",
    "if (a>b) and (a>c):\n",
    "    print (\" a is greater than b and c\")\n",
    "else: \n",
    "    if (b>a) and (b>c):\n",
    "        print (\"b is grater than c and a\")\n",
    "    else: \n",
    "        if (c>a) and (c>b):\n",
    "            print (\"c is grater than b and a\")\n"
   ]
  },
  {
   "cell_type": "code",
   "execution_count": null,
   "id": "4669b60d",
   "metadata": {},
   "outputs": [],
   "source": [
    "a,b = 20, 30\n",
    "print (a<=b)"
   ]
  },
  {
   "cell_type": "code",
   "execution_count": null,
   "id": "6dfd813b",
   "metadata": {},
   "outputs": [],
   "source": [
    "a,b = 20, 30\n",
    "print (a!=b)"
   ]
  },
  {
   "cell_type": "code",
   "execution_count": null,
   "id": "44be4884",
   "metadata": {},
   "outputs": [],
   "source": [
    "x, y = True, False\n",
    "print ('True and False is=', x and y)\n",
    "print ('True or False is', x or y )\n",
    "print (' x is not true', not x)\n"
   ]
  },
  {
   "cell_type": "code",
   "execution_count": null,
   "id": "5d0025bc",
   "metadata": {},
   "outputs": [],
   "source": [
    "print ((42).bit_length()) # number of binary number \n",
    "print (bin(42)) # converting  42 into binary number "
   ]
  },
  {
   "cell_type": "code",
   "execution_count": null,
   "id": "e896aaf0",
   "metadata": {},
   "outputs": [],
   "source": [
    "# Bitwise and\n",
    "x, y = 156, 52   \n",
    "print (bin(x))             #  10011100\n",
    "print(bin(y))              #    110100\n",
    "print (bin (x | y))\n",
    "print (x | y)              #     188"
   ]
  },
  {
   "cell_type": "code",
   "execution_count": null,
   "id": "b01a2a2f",
   "metadata": {},
   "outputs": [],
   "source": [
    "# Bitwise or\n",
    "x, y = 156, 52   \n",
    "print (bin(x))             # 10011100\n",
    "print(bin(y))              #   110100\n",
    "print (bin (x & y))        # 10111100\n",
    "print (x&y)                # 20\n"
   ]
  },
  {
   "cell_type": "code",
   "execution_count": null,
   "id": "7dbdfe50",
   "metadata": {},
   "outputs": [],
   "source": [
    "# Bitwise not\n",
    "x= 156  \n",
    "print (bin(x))      # 10011100\n",
    "print (bin (~x))    # 10011101\n",
    "print (~x)          # -157\n"
   ]
  },
  {
   "cell_type": "code",
   "execution_count": null,
   "id": "8c9a3410",
   "metadata": {},
   "outputs": [],
   "source": [
    "# Left Shit \n",
    "a = 5\n",
    "print (bin (a),a)             #  101          5\n",
    "print (bin(a<<1),a<<1)        # 1010         10\n",
    "print (bin (a<<2),a<<2)       # 10100        20\n",
    "print (bin (a<<3),a<<3)      # 101000        40"
   ]
  },
  {
   "cell_type": "code",
   "execution_count": null,
   "id": "ddf832f3",
   "metadata": {},
   "outputs": [],
   "source": [
    "# Right shift \n",
    "a = 1000\n",
    "print (bin (a),a)             # 1100100   100\n",
    "print (bin(a>>1),a>>1)        #  110010    50\n",
    "print (bin (a>>2),a>>2)       #   11001    25\n",
    "print (bin (a>>3),a>>3)       #    1100    12\n"
   ]
  },
  {
   "cell_type": "code",
   "execution_count": null,
   "id": "fdfc94fe",
   "metadata": {},
   "outputs": [],
   "source": [
    "x = \"Hello, World!\"\n",
    "print(\"ello\" in x) #Returns true as it exists\n",
    "print(\"hello\" in x) #Returns false as 'h' is in lowercase\n",
    "print(\"World\" in x)#Returns true as it exists"
   ]
  },
  {
   "cell_type": "code",
   "execution_count": null,
   "id": "4b69c20a",
   "metadata": {},
   "outputs": [],
   "source": [
    "x = 12,34,5,6,7,8,9\n",
    "print (124 in x)"
   ]
  },
  {
   "cell_type": "code",
   "execution_count": null,
   "id": "06ddaf26",
   "metadata": {},
   "outputs": [],
   "source": [
    "a = \"Hello\"\n",
    "b = \"Hello\"\n",
    "c = [1,2,3]\n",
    "d = [1,2,3]\n",
    "print (a is b)\n",
    "print (c is d)"
   ]
  },
  {
   "cell_type": "code",
   "execution_count": null,
   "id": "407e6dc3",
   "metadata": {},
   "outputs": [],
   "source": [
    "a = 1\n",
    "while a<10:\n",
    "    print (a,end=\"\\t\")\n",
    "    a+=1"
   ]
  },
  {
   "cell_type": "code",
   "execution_count": null,
   "id": "2a9fc784",
   "metadata": {},
   "outputs": [],
   "source": [
    "i = 1\n",
    "while i < 6:\n",
    "  print(i)\n",
    "  if i == 3:\n",
    "    break\n",
    "  i += 1"
   ]
  },
  {
   "cell_type": "code",
   "execution_count": null,
   "id": "118f1aa4",
   "metadata": {},
   "outputs": [],
   "source": [
    "a, b =1,1\n",
    "while (a<10):\n",
    "    a +=1\n",
    "    b= a*a\n",
    "    print (a,\"Square is\", b)\n"
   ]
  },
  {
   "cell_type": "code",
   "execution_count": null,
   "id": "b689256a",
   "metadata": {},
   "outputs": [],
   "source": [
    "i = 0\n",
    "while i < 6:\n",
    "  i += 1\n",
    "  if i == 3:\n",
    "    continue\n",
    "  print(i)\n"
   ]
  },
  {
   "cell_type": "code",
   "execution_count": null,
   "id": "91fc4567",
   "metadata": {},
   "outputs": [],
   "source": [
    "a = [1,2,3,4,5,6,7]\n",
    "for num in a:\n",
    "    print (num)\n"
   ]
  },
  {
   "cell_type": "code",
   "execution_count": null,
   "id": "1e384aef",
   "metadata": {},
   "outputs": [],
   "source": [
    "for i in range(1, 11):\n",
    "   print(num, 'x', i, '=', num*i)"
   ]
  },
  {
   "cell_type": "code",
   "execution_count": null,
   "id": "4d57a2d5",
   "metadata": {},
   "outputs": [],
   "source": [
    "fruits = [\"apple\", \"banana\", \"cherry\"]\n",
    "for x in fruits:\n",
    "    print(x)\n"
   ]
  },
  {
   "cell_type": "code",
   "execution_count": null,
   "id": "3828da55",
   "metadata": {},
   "outputs": [],
   "source": [
    "for x in \"banana\":\n",
    "  print(x)"
   ]
  },
  {
   "cell_type": "code",
   "execution_count": null,
   "id": "4fcc8ea3",
   "metadata": {},
   "outputs": [],
   "source": [
    "for i in range (1,11):\n",
    "    for j in range (1,11):\n",
    "        print (i*j,\"\\t\", end = '')\n",
    "    print()\n"
   ]
  },
  {
   "cell_type": "code",
   "execution_count": null,
   "id": "2b448cdf",
   "metadata": {},
   "outputs": [],
   "source": [
    "adj = [\"red\", \"big\", \"tasty\"]\n",
    "fruits = [\"apple\", \"banana\", \"cherry\"]\n",
    "for x in adj:\n",
    "  for y in fruits:\n",
    "    print(x, y)\n"
   ]
  },
  {
   "cell_type": "code",
   "execution_count": null,
   "id": "e5c76a00",
   "metadata": {},
   "outputs": [],
   "source": [
    "# Example 1 Add Two Numbers\n",
    "num1 = 32\n",
    "num2 = 34\n",
    "sum = num1+num2\n",
    "print (\"The sum of {0} and {1} is {2}\".format(num1, num2, sum))"
   ]
  },
  {
   "cell_type": "code",
   "execution_count": null,
   "id": "2f5000de",
   "metadata": {},
   "outputs": [],
   "source": [
    "# Example 2 Add Two Numbers With User Input\n",
    "num1 = float (input (\"Enter First number=\"))\n",
    "num2 = float (input(\"Enter Second number=\")) \n",
    "sum = num1+num2\n",
    "print (\"The sum of {0} and {1} is {2}\".format(num1, num2, sum))"
   ]
  },
  {
   "cell_type": "code",
   "execution_count": null,
   "id": "8eb05a08",
   "metadata": {},
   "outputs": [],
   "source": [
    "#Example 3: A Solution for quadratic Equation \n",
    "import cmath\n",
    "a = float (input(\"Enter Coefficeint of x2=\"))\n",
    "b = float (input(\"Enter Coefficeint of x=\"))\n",
    "c = float (input(\"Enter constant=\"))\n",
    "d = b**2-(4*a*c)\n",
    "sol1 = (-b+cmath.sqrt(d))/(2*a)\n",
    "sol2 = (-b-cmath.sqrt(d))/(2*a)\n",
    "print (\"The solution are {0} and {1}\".format(sol1,sol2))"
   ]
  },
  {
   "cell_type": "code",
   "execution_count": null,
   "id": "1bbcd7f8",
   "metadata": {},
   "outputs": [],
   "source": [
    "#Generating Random Number \n",
    "import random\n",
    "print(random.randint(2,40))"
   ]
  },
  {
   "cell_type": "code",
   "execution_count": null,
   "id": "13ce4ea3",
   "metadata": {},
   "outputs": [],
   "source": [
    "#Check odd or even number \n",
    "num = float (input(\"Enter the number\"))\n",
    "if (num%2==0): \n",
    "    print (\"{0} is Even\".format (num))\n",
    "else:\n",
    "    print (\"{0} is odd\".format(num))\n"
   ]
  },
  {
   "cell_type": "code",
   "execution_count": null,
   "id": "5b85149b",
   "metadata": {},
   "outputs": [],
   "source": [
    "#Check if a Number is Positive, Negative or 0\n",
    "num = float (input (\"Enter the number\"))\n",
    "if num > 0:\n",
    "    print (\"{0} is Passitive number\".format (num))\n",
    "elif num==0:\n",
    "    print (\"{0} is zero\".format (num))\n",
    "else:\n",
    "    print (\"{0} is negetive number\".format (num))"
   ]
  },
  {
   "cell_type": "code",
   "execution_count": null,
   "id": "d9cee547",
   "metadata": {},
   "outputs": [],
   "source": [
    "#Python program to swap two variables\n",
    "num1= input ('Enter the value of x:')\n",
    "num2= input ('Enter the value of y:')\n",
    "num1, num2 = num2,num1\n",
    "print ('The value of x:{0} after swapping {1}'.format (num2,num1))\n",
    "print ('The value of y:{0} after swapping {1}'.format (num1,num2))"
   ]
  },
  {
   "cell_type": "code",
   "execution_count": null,
   "id": "b6fe0318",
   "metadata": {},
   "outputs": [],
   "source": [
    "#Program to generate a 10 random numbers between 1000 and 10000\n",
    "import random\n",
    "for i in range (10):\n",
    "    print (random.randint(1000,10000))"
   ]
  },
  {
   "cell_type": "code",
   "execution_count": null,
   "id": "4b0081ec",
   "metadata": {},
   "outputs": [],
   "source": [
    "#Python program to find the largest number among the three input numbers\n",
    "num1 = float (input (\"Enter the first number:\"))\n",
    "num2 = float (input (\"Enter the second number:\"))\n",
    "num3 = float (input (\"Enter the third number:\"))\n",
    "if (num1 >= num2) and (num1 >= num3):\n",
    "    largest = num1 \n",
    "elif (num2>=num1) and (num2 >=num3):\n",
    "    largest = num2 \n",
    "else:\n",
    "    largest = num3\n",
    "print (\"The largest number is\", largest)"
   ]
  },
  {
   "cell_type": "code",
   "execution_count": null,
   "id": "dbd94562",
   "metadata": {},
   "outputs": [],
   "source": [
    "#Python program to find the largest number among the three input numbers\n",
    "num1 = float (input (\"Enter the first number:\"))\n",
    "num2 = float (input (\"Enter the second number:\"))\n",
    "num3 = float (input (\"Enter the third number:\"))\n",
    "print (\"The Largestnumber is =\", max (num1, num2, num3))"
   ]
  },
  {
   "cell_type": "code",
   "execution_count": null,
   "id": "b4f65729",
   "metadata": {},
   "outputs": [],
   "source": [
    "#Program to check if a number is prime or not\n",
    "num = int (input (\"Enter the number:\"))\n",
    "flag = False \n",
    "if num >1: \n",
    "    for i in range (2,num):\n",
    "        if (num%i)== 0:\n",
    "            flag = True \n",
    "            break \n",
    "if flag:\n",
    "    print (num, \"is not prime number\")\n",
    "else: \n",
    "    print (num, \"is prime number\")"
   ]
  },
  {
   "cell_type": "code",
   "execution_count": null,
   "id": "ba6c6033",
   "metadata": {},
   "outputs": [],
   "source": [
    "#Python program to find the factorial of a number provided by the user.\n",
    "num = int (input (\"Enter a number:\"))\n",
    "fact=1\n",
    "if num<0:\n",
    "    print (\"Sorry, factorial does not exists for negetive number\")\n",
    "elif num ==0:\n",
    "    pirnt (\"The factorial of 0 is 1\")\n",
    "else: \n",
    "    for i in range (1, num+1):\n",
    "        fact = fact * i\n",
    "    print (\"The Factorial of {0} is {1}\".format (num, fact))"
   ]
  },
  {
   "cell_type": "code",
   "execution_count": null,
   "id": "f2a37e10",
   "metadata": {},
   "outputs": [],
   "source": [
    "#Multiplication table  \n",
    "num = int (input (\"Display multiplication Table of:\"))\n",
    "for i in range (1,11):\n",
    "    print (num, 'x', i, '=', num *i)"
   ]
  },
  {
   "cell_type": "code",
   "execution_count": null,
   "id": "9a2ac878",
   "metadata": {},
   "outputs": [],
   "source": [
    "#Multiplication table (1 to 10)\n",
    "for i in range (1, 11):\n",
    "    for j in range (1,11): \n",
    "        print (j*i, end=\"\\t\")\n",
    "    print (\"\\n\")"
   ]
  },
  {
   "cell_type": "code",
   "execution_count": null,
   "id": "c584cd1d",
   "metadata": {},
   "outputs": [],
   "source": [
    "#Python Program to Print the Fibonacci sequence\n",
    "n_terms= int (input (\"How many terms?\"))\n",
    "n1, n2 = 0, 1\n",
    "count =0\n",
    "if n_terms <=0:\n",
    "    print (\"Please Enter only a Pasitive integer\")\n",
    "elif n_terms ==1:\n",
    "    print (\"Fibonacci sequence upto {0}=  {1}\".format(n_terms,n1))\n",
    "else:\n",
    "    print (\"Fobonacci sequence :\")\n",
    "    while count < n_terms:\n",
    "        print (n1)\n",
    "        nth = n1+n2\n",
    "        n1=n2\n",
    "        n2 =nth\n",
    "        count = count + 1   "
   ]
  },
  {
   "cell_type": "code",
   "execution_count": null,
   "id": "ac5fc5b2",
   "metadata": {},
   "outputs": [],
   "source": [
    "#Python Program to Check Armstrong Number\n",
    "num = int (input (\"Enter the number:  \"))\n",
    "sum = 0 \n",
    "temp = sum \n",
    "while temp > 0:\n",
    "    digit = temp %10\n",
    "    sum += digit **3\n",
    "    temp //=10\n",
    "if num ==sum:\n",
    "    print (num, \"is an Armstrong NUmber\")\n",
    "else:\n",
    "    print (num, \"is not Armstrong Number\")"
   ]
  },
  {
   "cell_type": "code",
   "execution_count": null,
   "id": "136cec70",
   "metadata": {},
   "outputs": [],
   "source": [
    "num1= int (input(\"Enter the starting number: \"))\n",
    "num2 = int (input (\"Enter the End number:  \"))\n",
    "for num in range(num1, num2+1):\n",
    "    order=int(len(str(num)))\n",
    "    sum = 0\n",
    "    temp = num\n",
    "    while temp > 0:\n",
    "        digit = temp % 10\n",
    "        sum += digit ** order\n",
    "        temp //= 10\n",
    "    if num == sum:\n",
    "        print(num)"
   ]
  },
  {
   "cell_type": "code",
   "execution_count": null,
   "id": "a3789f3f",
   "metadata": {},
   "outputs": [],
   "source": [
    "#Python Program to Display Powers of 2 Using Anonymous Function\n",
    "terms = int (input ('Enter number of items:'))\n",
    "result = list(map(lambda x:2**x, range(terms)))\n",
    "print (\"The total terms are:\", terms)\n",
    "for i in range(terms):\n",
    "    print (\"2 raised to power {0} is {1}\".format(i, result[i]))"
   ]
  },
  {
   "cell_type": "code",
   "execution_count": null,
   "id": "cbf9f14f",
   "metadata": {},
   "outputs": [],
   "source": [
    "#Python Program to find the ASCII value of English alphabets \n",
    "char=input (\"Enter the any English alphets to find ASCI values\")\n",
    "print (\"ASCII value of {0} is {1}\".format(char, ord(char)))\n"
   ]
  },
  {
   "cell_type": "code",
   "execution_count": null,
   "id": "cae2424b",
   "metadata": {},
   "outputs": [],
   "source": [
    "#Python Program to Convert Decimal to Binary, Octal and Hexadecimal\n",
    "dec = int (input (\"Enter the decimal number is:\"))\n",
    "print ('The decimal number of {0} in binary={1}, in octtal={2} and in hexadecimal={3}'.format (dec, bin(dec), oct(dec), hex(dec)))"
   ]
  },
  {
   "cell_type": "code",
   "execution_count": null,
   "id": "902123f9",
   "metadata": {},
   "outputs": [],
   "source": [
    "#Python Program to Find HCF or GCD\n",
    "def c_hcf(x,y):\n",
    "    smaller = min (x,y)\n",
    "    for i in range (1, smaller+1):\n",
    "        if ((x%i ==0) and (y%i==0)):\n",
    "            hcf = i\n",
    "    return hcf \n",
    "\n",
    "num1 = int (input (\"Enter the first vale\"))\n",
    "num2 = int (input (\"Enter the second value\"))\n",
    "print (\"The HCF is \", c_hcf(num1,num2)\n",
    "\n"
   ]
  },
  {
   "cell_type": "code",
   "execution_count": null,
   "id": "f9004905",
   "metadata": {},
   "outputs": [],
   "source": [
    "#Python Program to Find LCM \n",
    "def c_lcm(x,y):\n",
    "    greater = max (x,y)\n",
    "    while (True): \n",
    "        if ((greater%x ==0) and (greater%y==0)):\n",
    "            lcm = greater\n",
    "            break\n",
    "        greater += 1\n",
    "    return lcm \n",
    "\n",
    "num1 = int (input (\"Enter the first vale\"))\n",
    "num2 = int (input (\"Enter the second value\"))\n",
    "print (\"The LCM is \", c_lcm(num1,num2))"
   ]
  },
  {
   "cell_type": "code",
   "execution_count": null,
   "id": "e2e1114a",
   "metadata": {},
   "outputs": [],
   "source": [
    "#Python Program to Make a Simple Calculator\n",
    "\n",
    "def add(a,b):\n",
    "    return a+b\n",
    "def sub(a,b):\n",
    "    return a-b\n",
    "def mul(a,b):\n",
    "    return a*b\n",
    "def div(a,b):\n",
    "    return a/b\n",
    "print (\"Select type of operation:\")\n",
    "print (\"1.Add \\n2.Subtract \\n3.Mutliplicaiton \\n4.Division\")\n",
    "while True:\n",
    "    choice = input (\"Enter choice (1/2/3/4):\")\n",
    "    if choice in ('1','2','3','4'):\n",
    "        num1= float (input (\"Enter first number: \"))\n",
    "        num2 = float (input (\"Enter Second Number:\"))\n",
    "    if choice =='1': \n",
    "        print (\"{0}+{1}={2}\".format (num1,num2, add(num1,num2)))\n",
    "    elif choice =='2': \n",
    "        print (\"{0}-{1}={2}\".format (num1,num2, sub(num1,num2)))\n",
    "    elif choice =='3': \n",
    "        print (\"{0}*{1}={2}\".format (num1,num2, mul(num1,num2)))\n",
    "    elif choice =='4': \n",
    "        print (\"{0}/{1}={2}\".format (num1,num2, div(num1,num2)))\n",
    "    next_calculation = input (\"let do next_Calculation? yes/no\")\n",
    "    if next_calculation == \"no\":\n",
    "        break"
   ]
  },
  {
   "cell_type": "code",
   "execution_count": null,
   "id": "5961ea2d",
   "metadata": {},
   "outputs": [],
   "source": [
    "#Python Program to Display Calendar\n",
    "import calendar \n",
    "yy =int(input (\"Enter the year\"))\n",
    "mm = int (input (\"Enter the month\"))\n",
    "print (calendar.month(yy,mm))"
   ]
  },
  {
   "cell_type": "code",
   "execution_count": null,
   "id": "ce9cd087",
   "metadata": {},
   "outputs": [],
   "source": []
  },
  {
   "cell_type": "code",
   "execution_count": null,
   "id": "bf08cad5",
   "metadata": {},
   "outputs": [],
   "source": []
  }
 ],
 "metadata": {
  "kernelspec": {
   "display_name": "Python 3 (ipykernel)",
   "language": "python",
   "name": "python3"
  },
  "language_info": {
   "codemirror_mode": {
    "name": "ipython",
    "version": 3
   },
   "file_extension": ".py",
   "mimetype": "text/x-python",
   "name": "python",
   "nbconvert_exporter": "python",
   "pygments_lexer": "ipython3",
   "version": "3.9.7"
  }
 },
 "nbformat": 4,
 "nbformat_minor": 5
}
